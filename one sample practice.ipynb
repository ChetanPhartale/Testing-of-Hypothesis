{
 "cells": [
  {
   "cell_type": "code",
   "execution_count": 4,
   "id": "ca269261",
   "metadata": {},
   "outputs": [],
   "source": [
    "import pandas as pd\n",
    "import numpy as np\n",
    "from scipy.stats  import ttest_1samp"
   ]
  },
  {
   "cell_type": "code",
   "execution_count": null,
   "id": "3bf3f9c1",
   "metadata": {},
   "outputs": [],
   "source": [
    "# 1)\n",
    "# Your company wants to improve sales. Past sales data indicates that the average sale was $100 per transaction. \n",
    "# After training your sales force, recent sales data (taken from a sample of 25 salesmen) \n",
    "# indicates an average sale of $130, with a standard deviation of $15. \n",
    "# Did the training work? Test your hypothesis at a 5% alpha level.\n"
   ]
  },
  {
   "cell_type": "code",
   "execution_count": 2,
   "id": "bcc4c28b",
   "metadata": {},
   "outputs": [
    {
     "name": "stderr",
     "output_type": "stream",
     "text": [
      "C:\\Users\\HP\\anaconda3\\lib\\site-packages\\numpy\\core\\fromnumeric.py:3723: RuntimeWarning: Degrees of freedom <= 0 for slice\n",
      "  return _methods._var(a, axis=axis, dtype=dtype, out=out, ddof=ddof,\n",
      "C:\\Users\\HP\\anaconda3\\lib\\site-packages\\numpy\\core\\_methods.py:254: RuntimeWarning: invalid value encountered in double_scalars\n",
      "  ret = ret.dtype.type(ret / rcount)\n"
     ]
    },
    {
     "data": {
      "text/plain": [
       "Ttest_1sampResult(statistic=nan, pvalue=nan)"
      ]
     },
     "execution_count": 2,
     "metadata": {},
     "output_type": "execute_result"
    }
   ],
   "source": [
    "ttest_1samp(25, 130)"
   ]
  },
  {
   "cell_type": "code",
   "execution_count": 8,
   "id": "9d81019d",
   "metadata": {},
   "outputs": [],
   "source": [
    "?ttest_1samp"
   ]
  },
  {
   "cell_type": "code",
   "execution_count": 4,
   "id": "94cb133e",
   "metadata": {},
   "outputs": [],
   "source": [
    "# 3)\n",
    "# We have the potato yield from 12 different farms. \n",
    "# We know that the standard potato yield for the given variety is µ=20.\n",
    "x = [21.5, 24.5, 18.5, 17.2, 14.5, 23.2, 22.1, 20.5, 19.4, 18.1, 24.1, 18.5]\n",
    "# Test if the potato yield from these farms is significantly better than the standard yield.\n",
    "\n",
    "# Ho = the potato yield from these sample farms is not significantly better than standard yield.\n",
    "# H1 = the potato yield from these sample farms is significantly better than standard yield."
   ]
  },
  {
   "cell_type": "code",
   "execution_count": 5,
   "id": "92735103",
   "metadata": {},
   "outputs": [
    {
     "data": {
      "text/plain": [
       "Ttest_1sampResult(statistic=-125.9261466594199, pvalue=9.913855951974363e-19)"
      ]
     },
     "execution_count": 5,
     "metadata": {},
     "output_type": "execute_result"
    }
   ],
   "source": [
    "ttest_1samp(x,130)"
   ]
  },
  {
   "cell_type": "code",
   "execution_count": null,
   "id": "f8f20d57",
   "metadata": {},
   "outputs": [],
   "source": [
    "# conclusion:\n",
    "# pvalue < alpha\n",
    "# We reject Ho\n",
    "# the potato yield from these sample farms is significantly better than standard yield."
   ]
  },
  {
   "cell_type": "code",
   "execution_count": 10,
   "id": "846a2e03",
   "metadata": {},
   "outputs": [
    {
     "data": {
      "text/plain": [
       "Ttest_1sampResult(statistic=0.2006562773994862, pvalue=0.8446291893053613)"
      ]
     },
     "execution_count": 10,
     "metadata": {},
     "output_type": "execute_result"
    }
   ],
   "source": [
    "# 5)\n",
    "# We have the potato yield from 12 different farms. We know that the standard                 \n",
    "# potato yield for the given variety is µ=20.\n",
    "x = [21.5, 24.5, 18.5, 17.2, 14.5, 23.2, 22.1, 20.5, 19.4, 18.1, 24.1, 18.5]\n",
    "# test if the potato yield from these farms is significantly better than the standard yield.\n",
    "\n",
    "# Ho = potato yield of sample is not better than standard.\n",
    "# H1 = potato yield of sample is better than standard.\n",
    "\n",
    "ttest_1samp(x,20)\n",
    "\n",
    "# conclusion:\n",
    "# pvalue < alpha\n",
    "# We reject Ho\n",
    "# the potato yield from these sample farms is better than standard yield."
   ]
  },
  {
   "cell_type": "code",
   "execution_count": 6,
   "id": "bbb88200",
   "metadata": {},
   "outputs": [],
   "source": [
    "# 6)\n",
    "# A manufacturer claims that the thickness of the spearmint gum it produces is 7.5 one-hundredths of an inch. \n",
    "# A quality control specialist regularly checks this claim. \n",
    "# On one production run, he took a random sample of n = 10 pieces of gum and measured their thickness. \n",
    "# He obtained:\n",
    "\n",
    "y = [7.65, 7.60, 7.65, 7.70, 7.55, 7.55, 7.40, 7.40, 7.50, 7.50]\n",
    "\n",
    "# Ho = Thickness of sample is not significantly different than standard thickness.\n",
    "# H1 = Thickness of sample is significantly different than standard thickness."
   ]
  },
  {
   "cell_type": "code",
   "execution_count": 7,
   "id": "e1f06ec1",
   "metadata": {},
   "outputs": [
    {
     "data": {
      "text/plain": [
       "Ttest_1sampResult(statistic=1.5389675281277262, pvalue=0.15819542053877977)"
      ]
     },
     "execution_count": 7,
     "metadata": {},
     "output_type": "execute_result"
    }
   ],
   "source": [
    "ttest_1samp(y,7.5)"
   ]
  },
  {
   "cell_type": "code",
   "execution_count": null,
   "id": "e1784255",
   "metadata": {},
   "outputs": [],
   "source": [
    "# conclusion:\n",
    "# pvalue > alpha\n",
    "# We do not reject Ho\n",
    "# Thickness of sample is not significantly different than standard thickness."
   ]
  },
  {
   "cell_type": "code",
   "execution_count": 12,
   "id": "6c0b14c3",
   "metadata": {},
   "outputs": [
    {
     "data": {
      "text/plain": [
       "Ttest_1sampResult(statistic=-0.07905694150421025, pvalue=0.9400538262435583)"
      ]
     },
     "execution_count": 12,
     "metadata": {},
     "output_type": "execute_result"
    }
   ],
   "source": [
    "# 7)\n",
    "# Our school is worried about students that the students do not attend Yoga lectures. \n",
    "# As of now students attend only 2.7 lectures. \n",
    "# School board has decided to make students sign the undertaking form saying that they will attend 5 lectures in the academic year.\n",
    "\n",
    "# Number of attended lectures \n",
    "a = [2, 3, 4, 1, 3, 3]\n",
    "\n",
    "# H0: There is no significant difference between the student who signed the contract that will attend the session as who does not sign the contract. (μ=M)\n",
    "# H1: There is significant difference between the student who signed the contract & those who don’t signed the contract. (μ≠M)\n",
    "\n",
    "ttest_1samp(a,2.7)"
   ]
  },
  {
   "cell_type": "code",
   "execution_count": null,
   "id": "42c7e9f8",
   "metadata": {},
   "outputs": [],
   "source": [
    "# conclusion:\n",
    "# pvalue > alpha\n",
    "# We do not reject Ho\n",
    "# There is no significant difference between the student who signed the contract & those who don’t signed the contract. (μ≠M)"
   ]
  },
  {
   "cell_type": "markdown",
   "id": "f0824b4b",
   "metadata": {},
   "source": [
    "8)\n",
    "* A professor wants to know if her introductory statistics class has a good grasp of basic math. Six students are chosen at random from the class and given a math proficiency test. The professor wants the class to be able to score above 70 on the test. The six students get scores of 62, 92, 75, 68, 83, and 95. Can the professor have 90 percent confidence that the mean score for the class on the test would be above 70?\n"
   ]
  },
  {
   "cell_type": "code",
   "execution_count": 13,
   "id": "893e4b0c",
   "metadata": {},
   "outputs": [
    {
     "data": {
      "text/plain": [
       "Ttest_1sampResult(statistic=2.4583165949150367, pvalue=0.05734710612462196)"
      ]
     },
     "execution_count": 13,
     "metadata": {},
     "output_type": "execute_result"
    }
   ],
   "source": [
    "a = [62,92,75,86,83,95]\n",
    "P_mean = 70\n",
    "\n",
    "# H0 = mean score will not be above 70.\n",
    "# H1 = mean score will be above 70.\n",
    "\n",
    "ttest_1samp(a,70)"
   ]
  },
  {
   "cell_type": "code",
   "execution_count": null,
   "id": "25451610",
   "metadata": {},
   "outputs": [],
   "source": [
    "# conclusion:\n",
    "# pvalue > alpha\n",
    "# We do not reject Ho\n",
    "# mean score will not be above 70."
   ]
  },
  {
   "cell_type": "markdown",
   "id": "fd92dd03",
   "metadata": {},
   "source": [
    "11)\n",
    "* A random sample of 10 boys had the following IQ \n",
    "* 70, 120, 110, 101, 88, 83, 95, 98, 107, 100\n",
    "* Do this data support the assumption of population mean IQ of 100? \n"
   ]
  },
  {
   "cell_type": "code",
   "execution_count": 14,
   "id": "e3799219",
   "metadata": {},
   "outputs": [
    {
     "data": {
      "text/plain": [
       "Ttest_1sampResult(statistic=-0.62033600083076, pvalue=0.5504193442735268)"
      ]
     },
     "execution_count": 14,
     "metadata": {},
     "output_type": "execute_result"
    }
   ],
   "source": [
    "a = [70,120,110,101,88,83,95,98,107,100]\n",
    "P_mean = 100\n",
    "\n",
    "# H0 = mean iQ will not be 100 .\n",
    "# H1 = mean iQ will be 100 .\n",
    "\n",
    "ttest_1samp(a,100)"
   ]
  },
  {
   "cell_type": "code",
   "execution_count": null,
   "id": "5c34e926",
   "metadata": {},
   "outputs": [],
   "source": [
    "# conclusion:\n",
    "# pvalue > alpha\n",
    "# We do not reject Ho\n",
    "# mean iQ will not be 100 ."
   ]
  },
  {
   "cell_type": "markdown",
   "id": "6418af00",
   "metadata": {},
   "source": [
    "13)\n",
    "* Imagine we have collected a random sample of 31 energy bars from a number of different stores to represent the population of energy bars available to the general consumer. The labels on the bars claim that each bar contains 20 grams of protein.\n",
    "* Energy Bar - Grams of Protein:\n",
    "* a =[20.70, 27.46, 22.15, 19.85, 21.29, 24.75, 20.75, 22.91, 25.34, 20.33, 21.54, 21.08, 22.14, 19.56, 21.10, 18.04, 24.12, 19.95, 19.72, 18.28, 16.26, 17.46, 20.53, 22.12, 25.06, 22.44, 19.08, 19.88, 21.39, 22.33, 25.79]\n",
    "\n",
    "* If you look at the table above, you see that some bars have less than 20 grams of protein. Other bars have more. You might think that the data support the idea that the labels are correct. Others might disagree. The statistical test provides a sound method to make a decision, so that everyone makes the same decision on the same set of data values.\n"
   ]
  },
  {
   "cell_type": "code",
   "execution_count": 15,
   "id": "46a5f989",
   "metadata": {},
   "outputs": [
    {
     "data": {
      "text/plain": [
       "Ttest_1sampResult(statistic=3.0668316352840814, pvalue=0.004552621060635394)"
      ]
     },
     "execution_count": 15,
     "metadata": {},
     "output_type": "execute_result"
    }
   ],
   "source": [
    "a =[20.70, 27.46, 22.15, 19.85, 21.29, 24.75, 20.75, 22.91, 25.34, 20.33, 21.54, 21.08, 22.14, 19.56, 21.10, 18.04, 24.12, 19.95, 19.72, 18.28, 16.26, 17.46, 20.53, 22.12, 25.06, 22.44, 19.08, 19.88, 21.39, 22.33, 25.79]\n",
    "P_mean = 20\n",
    "\n",
    "# H0 = each bar do not contain 20 gms protein.\n",
    "# H1 = each bar do contain 20 gms protein.\n",
    "\n",
    "ttest_1samp(a,20)"
   ]
  },
  {
   "cell_type": "code",
   "execution_count": null,
   "id": "1631d821",
   "metadata": {},
   "outputs": [],
   "source": [
    "# conclusion:\n",
    "# pvalue <= alpha\n",
    "# We reject Ho\n",
    "# each bar do contain 20 gms protein."
   ]
  }
 ],
 "metadata": {
  "kernelspec": {
   "display_name": "Python 3 (ipykernel)",
   "language": "python",
   "name": "python3"
  },
  "language_info": {
   "codemirror_mode": {
    "name": "ipython",
    "version": 3
   },
   "file_extension": ".py",
   "mimetype": "text/x-python",
   "name": "python",
   "nbconvert_exporter": "python",
   "pygments_lexer": "ipython3",
   "version": "3.9.12"
  }
 },
 "nbformat": 4,
 "nbformat_minor": 5
}
