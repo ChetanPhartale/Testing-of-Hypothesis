{
 "cells": [
  {
   "cell_type": "code",
   "execution_count": 1,
   "id": "c13e56b5",
   "metadata": {},
   "outputs": [],
   "source": [
    "import pandas as pd\n",
    "import numpy as np\n",
    "from scipy.stats  import ttest_ind,ttest_1samp,ttest_rel"
   ]
  },
  {
   "cell_type": "code",
   "execution_count": 2,
   "id": "56519019",
   "metadata": {},
   "outputs": [],
   "source": [
    "# 2)\n",
    "# The thickness of ceramic tile of vendor A is slightly greater than  the vendor 2. \n",
    "# The researcher randomly collected samples from both vendors. \n",
    "# Assuming the population variances are equal, at 95% confidence level, is there enough evidence to support the claim?\n",
    "\n",
    "v1 = [22,14,20,22,20,16,16,14,21,19,19,21]\n",
    "v2 = [17,22,14,12,24,21,22,15,21,18,14,22]\n",
    "\n",
    "# alpha = 0.05 \n",
    "# one tailed\n",
    "# Ho = there is no significant difference in thickness of ceramic tiles of both the vendors.\n",
    "# H1 = there is a significant difference in thickness of ceramic tiles of both the vendors."
   ]
  },
  {
   "cell_type": "code",
   "execution_count": 4,
   "id": "62ca6f5f",
   "metadata": {},
   "outputs": [
    {
     "data": {
      "text/plain": [
       "Ttest_indResult(statistic=0.11617629928405197, pvalue=0.9085667975518762)"
      ]
     },
     "execution_count": 4,
     "metadata": {},
     "output_type": "execute_result"
    }
   ],
   "source": [
    "ttest_ind(v1,v2)"
   ]
  },
  {
   "cell_type": "markdown",
   "id": "63ef07f1",
   "metadata": {},
   "source": [
    "### conclusion\n",
    "\n",
    "* pvalue > alpha\n",
    "* we do not reject Ho\n",
    "* there is no significant difference in thickness of ceramic tiles of both the vendors."
   ]
  },
  {
   "cell_type": "code",
   "execution_count": 5,
   "id": "825edabb",
   "metadata": {},
   "outputs": [],
   "source": [
    "# 4)\n",
    "# Samples of sales in similar shops in two different US states are taken for a new product with the following results.\n",
    "# Is there any evidence that sales in state A is less than the state B. \n",
    "# Assuming the population variances are equal, at 95% confidence level, is there enough evidence to support the claim?\n",
    "\n",
    "s1 = [57,56,36,48,43,48,44,39,47,42,44,32]\n",
    "s2 = [40,28,44,42,44,46,48,41,44,48,46,42]\n",
    "\n",
    "# alpha = 0.05 \n",
    "# one tailed\n",
    "# Ho = sales in state A is not greater than sales in state B.\n",
    "# H1 = sales in state A is greater than sales in state B."
   ]
  },
  {
   "cell_type": "code",
   "execution_count": 6,
   "id": "ca522fc9",
   "metadata": {},
   "outputs": [
    {
     "data": {
      "text/plain": [
       "Ttest_indResult(statistic=0.7352880510868978, pvalue=0.46993075938264417)"
      ]
     },
     "execution_count": 6,
     "metadata": {},
     "output_type": "execute_result"
    }
   ],
   "source": [
    "ttest_ind(s1,s2)"
   ]
  },
  {
   "cell_type": "markdown",
   "id": "7b88cec2",
   "metadata": {},
   "source": [
    "### conclusion\n",
    "\n",
    "* pvalue > alpha\n",
    "* we do not reject Ho\n",
    "* sales in state A is not greater than sales in state B."
   ]
  }
 ],
 "metadata": {
  "kernelspec": {
   "display_name": "Python 3 (ipykernel)",
   "language": "python",
   "name": "python3"
  },
  "language_info": {
   "codemirror_mode": {
    "name": "ipython",
    "version": 3
   },
   "file_extension": ".py",
   "mimetype": "text/x-python",
   "name": "python",
   "nbconvert_exporter": "python",
   "pygments_lexer": "ipython3",
   "version": "3.9.12"
  }
 },
 "nbformat": 4,
 "nbformat_minor": 5
}
